{
 "cells": [
  {
   "cell_type": "code",
   "execution_count": 1,
   "id": "1374413f",
   "metadata": {},
   "outputs": [],
   "source": [
    "import numpy as np\n",
    "import tensorflow as tf\n",
    "import tensorflow_datasets as tdfs"
   ]
  },
  {
   "cell_type": "code",
   "execution_count": 2,
   "id": "abe4d6ba",
   "metadata": {},
   "outputs": [],
   "source": [
    "Mdataset,Minfo = tdfs.load(name='mnist',with_info=True,as_supervised=True)"
   ]
  },
  {
   "cell_type": "code",
   "execution_count": 3,
   "id": "d4b2af77",
   "metadata": {},
   "outputs": [],
   "source": [
    "Mtrain,Mtest = Mdataset['train'],Mdataset['test']\n",
    "\n",
    "Mvalidation = .1 *Minfo.splits['train'].num_examples\n",
    "Mvalidation = tf.cast(Mvalidation,tf.int64)\n",
    "\n",
    "num_test_samp = Minfo.splits['test'].num_examples\n",
    "num_test_samp = tf.cast(num_test_samp,tf.int64)"
   ]
  },
  {
   "cell_type": "code",
   "execution_count": 4,
   "id": "dab8d605",
   "metadata": {},
   "outputs": [],
   "source": [
    "def scale(image,label):\n",
    "    image = tf.cast(image,tf.float32)\n",
    "    image /= 255\n",
    "    return image,label"
   ]
  },
  {
   "cell_type": "code",
   "execution_count": 5,
   "id": "8376c7bc",
   "metadata": {},
   "outputs": [],
   "source": [
    "scaled_train_and_validation_data = Mtrain.map(scale) "
   ]
  },
  {
   "cell_type": "code",
   "execution_count": 6,
   "id": "cc60425f",
   "metadata": {},
   "outputs": [],
   "source": [
    "BUFFER_SIZE = 10000"
   ]
  },
  {
   "cell_type": "code",
   "execution_count": 7,
   "id": "b105139a",
   "metadata": {},
   "outputs": [],
   "source": [
    "shuffled_train_validation_data = scaled_train_and_validation_data.shuffle(BUFFER_SIZE)"
   ]
  },
  {
   "cell_type": "code",
   "execution_count": 8,
   "id": "a421a21f",
   "metadata": {},
   "outputs": [],
   "source": [
    "validation_data = shuffled_train_validation_data.take(Mvalidation)"
   ]
  },
  {
   "cell_type": "code",
   "execution_count": 9,
   "id": "595083e4",
   "metadata": {},
   "outputs": [],
   "source": [
    "train_data =  shuffled_train_validation_data.skip(Mvalidation)"
   ]
  },
  {
   "cell_type": "code",
   "execution_count": 10,
   "id": "d5a2c4fe",
   "metadata": {},
   "outputs": [],
   "source": [
    "BATCH_SIZE = 100\n",
    "train_data = train_data.batch(BATCH_SIZE)"
   ]
  },
  {
   "cell_type": "code",
   "execution_count": 11,
   "id": "935c7a1d",
   "metadata": {},
   "outputs": [],
   "source": [
    "validation_data = validation_data.batch(Mvalidation)"
   ]
  },
  {
   "cell_type": "code",
   "execution_count": 12,
   "id": "d1b33419",
   "metadata": {},
   "outputs": [
    {
     "ename": "SyntaxError",
     "evalue": "invalid syntax (2820681434.py, line 1)",
     "output_type": "error",
     "traceback": [
      "\u001b[1;36m  Cell \u001b[1;32mIn [12], line 1\u001b[1;36m\u001b[0m\n\u001b[1;33m    validation_inp , validation_trgt = next(iter(validation_data))def main():\u001b[0m\n\u001b[1;37m                                                                  ^\u001b[0m\n\u001b[1;31mSyntaxError\u001b[0m\u001b[1;31m:\u001b[0m invalid syntax\n"
     ]
    }
   ],
   "source": [
    "validation_inp , validation_trgt = next(iter(validation_data))def main():"
   ]
  },
  {
   "cell_type": "code",
   "execution_count": null,
   "id": "2a1ef85c",
   "metadata": {},
   "outputs": [],
   "source": [
    "input_size = 784\n",
    "output_size = 10\n",
    "hidden_layer_size = 50\n",
    "model = tf.keras.Sequential([\n",
    "    tf.keras.layers.Flatten(input_shape=(28,28,1)),\n",
    "    tf.keras.layers.Dense(hidden_layer_size,activation='relu'),\n",
    "    tf.keras.layers.Dense(hidden_layer_size,activation='relu'),\n",
    "    tf.keras.layers.Dense(hidden_layer_size,activation='softmax')\n",
    "    \n",
    "])"
   ]
  },
  {
   "cell_type": "code",
   "execution_count": null,
   "id": "e509f5a2",
   "metadata": {},
   "outputs": [],
   "source": [
    "model.compile(optimizer='ADAM',loss='sparse_categorical_crossentropy',metrics=['accuracy'])"
   ]
  },
  {
   "cell_type": "code",
   "execution_count": null,
   "id": "8825d05f",
   "metadata": {},
   "outputs": [],
   "source": [
    "NUM_EPOCHS = 8\n",
    "model.fit(train_data,epochs=NUM_EPOCHS,validation_data=(validation_inp , validation_trgt),verbose=2)"
   ]
  },
  {
   "cell_type": "code",
   "execution_count": null,
   "id": "fc67782e",
   "metadata": {},
   "outputs": [],
   "source": []
  }
 ],
 "metadata": {
  "kernelspec": {
   "display_name": "Python 3 (ipykernel)",
   "language": "python",
   "name": "python3"
  },
  "language_info": {
   "codemirror_mode": {
    "name": "ipython",
    "version": 3
   },
   "file_extension": ".py",
   "mimetype": "text/x-python",
   "name": "python",
   "nbconvert_exporter": "python",
   "pygments_lexer": "ipython3",
   "version": "3.10.8"
  }
 },
 "nbformat": 4,
 "nbformat_minor": 5
}
